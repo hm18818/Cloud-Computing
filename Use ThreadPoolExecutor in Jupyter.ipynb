{
 "cells": [
  {
   "cell_type": "code",
   "execution_count": 8,
   "id": "d69fe3a5-7b00-4439-9103-534568dd4d58",
   "metadata": {},
   "outputs": [
    {
     "name": "stdin",
     "output_type": "stream",
     "text": [
      "Enter the number to sum up to (N):  19\n",
      "Enter number of worker grid nodes:  7\n"
     ]
    },
    {
     "name": "stdout",
     "output_type": "stream",
     "text": [
      "Partial sum from worker: 51\n",
      "Partial sum from worker: 6\n",
      "Partial sum from worker: 24\n",
      "Partial sum from worker: 15\n",
      "Partial sum from worker: 33\n",
      "Partial sum from worker: 42\n",
      "Partial sum from worker: 19\n",
      "\n",
      "✅ Final aggregated sum from all nodes: 190\n"
     ]
    }
   ],
   "source": [
    "from concurrent.futures import ThreadPoolExecutor, as_completed\n",
    "import math\n",
    "\n",
    "def sum_chunk(chunk):\n",
    "    return sum(chunk)\n",
    "\n",
    "def split_into_chunks(data, num_chunks):\n",
    "    chunk_size = math.ceil(len(data) / num_chunks)\n",
    "    return [data[i:i + chunk_size] for i in range(0, len(data), chunk_size)]\n",
    "\n",
    "def distributed_sum(N, num_workers):\n",
    "    numbers = list(range(1, N + 1))\n",
    "    chunks = split_into_chunks(numbers, num_workers)\n",
    "\n",
    "    total_sum = 0\n",
    "    with ThreadPoolExecutor(max_workers=num_workers) as executor:\n",
    "        futures = [executor.submit(sum_chunk, chunk) for chunk in chunks]\n",
    "        for future in as_completed(futures):\n",
    "            partial_sum = future.result()\n",
    "            print(f\"Partial sum from worker: {partial_sum}\")\n",
    "            total_sum += partial_sum\n",
    "\n",
    "    print(f\"\\n✅ Final aggregated sum from all nodes: {total_sum}\")\n",
    "\n",
    "# Run directly in notebook\n",
    "N = int(input(\"Enter the number to sum up to (N): \"))\n",
    "W = int(input(\"Enter number of worker grid nodes: \"))\n",
    "distributed_sum(N, W)\n"
   ]
  },
  {
   "cell_type": "code",
   "execution_count": null,
   "id": "2026f9fd-5de9-46d1-bef5-ccd0ab4ac6e0",
   "metadata": {},
   "outputs": [],
   "source": []
  }
 ],
 "metadata": {
  "kernelspec": {
   "display_name": "Python 3 (ipykernel)",
   "language": "python",
   "name": "python3"
  },
  "language_info": {
   "codemirror_mode": {
    "name": "ipython",
    "version": 3
   },
   "file_extension": ".py",
   "mimetype": "text/x-python",
   "name": "python",
   "nbconvert_exporter": "python",
   "pygments_lexer": "ipython3",
   "version": "3.12.7"
  }
 },
 "nbformat": 4,
 "nbformat_minor": 5
}
