{
 "cells": [
  {
   "cell_type": "code",
   "execution_count": null,
   "id": "f3d5c0d6-a790-4984-9859-bd8057769d00",
   "metadata": {},
   "outputs": [],
   "source": []
  }
 ],
 "metadata": {
  "kernelspec": {
   "display_name": "",
   "name": ""
  },
  "language_info": {
   "name": ""
  }
 },
 "nbformat": 4,
 "nbformat_minor": 5
}
