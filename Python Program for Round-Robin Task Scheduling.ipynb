{
 "cells": [
  {
   "cell_type": "code",
   "execution_count": 3,
   "id": "299a8dfe-24b3-4cf4-b93b-c58fa9b1772d",
   "metadata": {},
   "outputs": [
    {
     "name": "stdin",
     "output_type": "stream",
     "text": [
      "Enter number of worker nodes (N):  12\n",
      "Enter number of tasks (M):  4\n"
     ]
    },
    {
     "name": "stdout",
     "output_type": "stream",
     "text": [
      "\n",
      "Worker Node 0 starting task processing...\n",
      "Worker 0 processing Task 1\n",
      "Worker Node 0 completed all tasks.\n",
      "\n",
      "Worker Node 1 starting task processing...\n",
      "Worker 1 processing Task 2\n",
      "Worker Node 1 completed all tasks.\n",
      "\n",
      "Worker Node 2 starting task processing...\n",
      "Worker 2 processing Task 3\n",
      "Worker Node 2 completed all tasks.\n",
      "\n",
      "Worker Node 3 starting task processing...\n",
      "Worker 3 processing Task 4\n",
      "Worker Node 3 completed all tasks.\n",
      "\n",
      "Worker Node 4 starting task processing...\n",
      "Worker Node 4 completed all tasks.\n",
      "\n",
      "Worker Node 5 starting task processing...\n",
      "Worker Node 5 completed all tasks.\n",
      "\n",
      "Worker Node 6 starting task processing...\n",
      "Worker Node 6 completed all tasks.\n",
      "\n",
      "Worker Node 7 starting task processing...\n",
      "Worker Node 7 completed all tasks.\n",
      "\n",
      "Worker Node 8 starting task processing...\n",
      "Worker Node 8 completed all tasks.\n",
      "\n",
      "Worker Node 9 starting task processing...\n",
      "Worker Node 9 completed all tasks.\n",
      "\n",
      "Worker Node 10 starting task processing...\n",
      "Worker Node 10 completed all tasks.\n",
      "\n",
      "Worker Node 11 starting task processing...\n",
      "Worker Node 11 completed all tasks.\n"
     ]
    }
   ],
   "source": [
    "import time\n",
    "import random\n",
    "\n",
    "class WorkerNode:\n",
    "    def __init__(self, node_id):\n",
    "        self.node_id = node_id\n",
    "        self.tasks = []\n",
    "\n",
    "    def assign_task(self, task):\n",
    "        self.tasks.append(task)\n",
    "\n",
    "    def process_tasks(self):\n",
    "        print(f\"\\nWorker Node {self.node_id} starting task processing...\")\n",
    "        for task in self.tasks:\n",
    "            print(f\"Worker {self.node_id} processing Task {task}\")\n",
    "            time.sleep(random.uniform(0.1, 0.3))  # Simulate processing time\n",
    "        print(f\"Worker Node {self.node_id} completed all tasks.\")\n",
    "\n",
    "def round_robin_distribution(num_workers, num_tasks):\n",
    "    # Initialize worker nodes\n",
    "    workers = [WorkerNode(i) for i in range(num_workers)]\n",
    "\n",
    "    # Assign tasks using round-robin\n",
    "    for task_id in range(1, num_tasks + 1):\n",
    "        worker_index = (task_id - 1) % num_workers\n",
    "        workers[worker_index].assign_task(task_id)\n",
    "\n",
    "    # Simulate each worker processing its tasks\n",
    "    for worker in workers:\n",
    "        worker.process_tasks()\n",
    "\n",
    "# Example usage\n",
    "if __name__ == \"__main__\":\n",
    "    N = int(input(\"Enter number of worker nodes (N): \"))\n",
    "    M = int(input(\"Enter number of tasks (M): \"))\n",
    "    round_robin_distribution(N, M)\n"
   ]
  },
  {
   "cell_type": "code",
   "execution_count": null,
   "id": "be077cec-960f-41a1-a5f0-36687ca74916",
   "metadata": {},
   "outputs": [],
   "source": []
  }
 ],
 "metadata": {
  "kernelspec": {
   "display_name": "Python 3 (ipykernel)",
   "language": "python",
   "name": "python3"
  },
  "language_info": {
   "codemirror_mode": {
    "name": "ipython",
    "version": 3
   },
   "file_extension": ".py",
   "mimetype": "text/x-python",
   "name": "python",
   "nbconvert_exporter": "python",
   "pygments_lexer": "ipython3",
   "version": "3.12.7"
  }
 },
 "nbformat": 4,
 "nbformat_minor": 5
}
